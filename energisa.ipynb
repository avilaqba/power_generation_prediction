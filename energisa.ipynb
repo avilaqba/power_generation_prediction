{
 "cells": [
  {
   "cell_type": "markdown",
   "id": "30ba4138",
   "metadata": {},
   "source": [
    "### Power Generation Prediction"
   ]
  },
  {
   "cell_type": "code",
   "execution_count": 1,
   "id": "717150ec-7257-4325-9b8d-b4d6dbfd12ce",
   "metadata": {},
   "outputs": [],
   "source": [
    "import pandas as pd\n",
    "import numpy as np\n",
    "import matplotlib.pyplot as plt\n",
    "from catboost import CatBoostRegressor\n",
    "from sklearn.model_selection import GridSearchCV\n",
    "from sklearn.metrics import mean_squared_error\n",
    "from sklearn.preprocessing import MinMaxScaler\n",
    "import datetime\n",
    "import warnings\n",
    "warnings.filterwarnings('ignore')\n",
    "from suntime import Sun\n",
    "import pytz\n",
    "from flaml import AutoML\n",
    "from scipy import stats"
   ]
  },
  {
   "cell_type": "code",
   "execution_count": 2,
   "id": "5df03648",
   "metadata": {},
   "outputs": [],
   "source": [
    "temp = pd.read_csv('enerjisa-enerji-veri-maratonu/temperature.csv', sep=';')\n",
    "temp = temp[:-95]\n",
    "temp['DateTime'] = pd.to_datetime(temp['DateTime'], format='%d%b%Y %H:%M:%S')\n",
    "\n",
    "temp[['AirTemperature','ComfortTemperature','RelativeHumidity','WindSpeed','EffectiveCloudCover']] = temp[['AirTemperature','ComfortTemperature','RelativeHumidity','WindSpeed','EffectiveCloudCover']].apply(lambda x: x.str.replace(',','.')).astype(float)\n",
    "\n",
    "temp['DateTime'] = pd.to_datetime(temp['DateTime'], format='%d%b%Y %H:%M:%S')\n",
    "temp['hourofday'] = temp.DateTime.dt.hour\n",
    "temp['dayofyear'] = temp.DateTime.dt.dayofyear\n",
    "temp['dayofmonth'] = temp.DateTime.dt.day\n",
    "temp['year'] = temp.DateTime.dt.year\n",
    "\n",
    "temp['WWCode'].fillna(0, inplace=True)\n",
    "temp.loc[temp['WWCode'] == 84, 'WWCode'] = 80\n",
    "\n",
    "coordinates = [40.239, 33.029]\n",
    "temp[\"Date\"] = temp[\"DateTime\"].apply(pd.to_datetime).dt.date.apply(str)\n",
    "temp[\"Hour\"] = temp[\"DateTime\"].apply(pd.to_datetime).dt.hour\n",
    "sun = Sun(coordinates[0], coordinates[1])\n",
    "tz =pytz.timezone('Europe/Istanbul')\n",
    "temp[\"IsDay\"]= temp[[\"Date\",\"Hour\"]].apply(lambda x : sun.get_local_sunrise_time(pd.to_datetime(x[\"Date\"]).date(),local_time_zone=tz).hour <= x[\"Hour\"] <= sun.get_local_sunset_time(pd.to_datetime(x[\"Date\"]).date(),local_time_zone=tz).hour ,axis=1)\n",
    "temp[\"IsDay\"] = temp[\"IsDay\"].apply(lambda x: 1 if x==True else 0)\n",
    "temp.drop(['Date','Hour'], axis=1, inplace=True)"
   ]
  },
  {
   "cell_type": "code",
   "execution_count": 3,
   "id": "b9559f0d",
   "metadata": {},
   "outputs": [],
   "source": [
    "df = pd.read_csv('enerjisa-enerji-veri-maratonu/generation.csv', sep=';')\n",
    "df.dropna(inplace=True)\n",
    "df['DateTime'] = pd.to_datetime(df['DateTime'], format='%d%b%Y %H:%M:%S')\n",
    "df['Generation'] = df.Generation.apply(lambda x: x.replace(',', '.')).astype(float)\n",
    "\n",
    "merged = pd.merge(temp, df, on='DateTime', how='left')\n",
    "merged.set_index('DateTime', inplace=True)\n",
    "data = merged.copy()"
   ]
  },
  {
   "cell_type": "code",
   "execution_count": 4,
   "id": "5d8757f4",
   "metadata": {},
   "outputs": [],
   "source": [
    "data['AirTemperature_1'] = data.AirTemperature.shift(1)\n",
    "data['ComfortTemperature_1'] = data.ComfortTemperature.shift(1)\n",
    "data['RelativeHumidity_1'] = data.RelativeHumidity.shift(1)\n",
    "data['EffectiveCloudCover_1'] = data.EffectiveCloudCover.shift(1)\n",
    "data['WindSpeed_1'] = data.WindSpeed.shift(1)\n",
    "\n",
    "data['AirTemperature_1+'] = data.AirTemperature.shift(-1)\n",
    "data['ComfortTemperature_1+'] = data.ComfortTemperature.shift(-1)\n",
    "data['RelativeHumidity_1+'] = data.RelativeHumidity.shift(-1)\n",
    "data['EffectiveCloudCover_1+'] = data.EffectiveCloudCover.shift(-1)\n",
    "data['WindSpeed_1+'] = data.WindSpeed.shift(-1)\n",
    "data['IsDay_1+'] = data.IsDay.shift(-1)\n",
    "\n",
    "data['AirTemperature_2+'] = data.AirTemperature.shift(-2)\n",
    "data['ComfortTemperature_2+'] = data.ComfortTemperature.shift(-2)\n",
    "data['RelativeHumidity_2+'] = data.RelativeHumidity.shift(-2)\n",
    "data['EffectiveCloudCover_2+'] = data.EffectiveCloudCover.shift(-2)\n",
    "data['WindSpeed_2+'] = data.WindSpeed.shift(-2)\n",
    "data['IsDay_2+'] = data.IsDay.shift(-2)\n",
    "\n",
    "data['AirTemperature_3+'] = data.AirTemperature.shift(-3)\n",
    "data['ComfortTemperature_3+'] = data.ComfortTemperature.shift(-3)\n",
    "data['RelativeHumidity_3+'] = data.RelativeHumidity.shift(-3)\n",
    "data['EffectiveCloudCover_3+'] = data.EffectiveCloudCover.shift(-3)\n",
    "data['WindSpeed_3+'] = data.WindSpeed.shift(-3)\n",
    "data['IsDay_3+'] = data.IsDay.shift(-3)\n",
    "\n",
    "data['AirTemperature_4+'] = data.AirTemperature.shift(-4)\n",
    "data['ComfortTemperature_4+'] = data.ComfortTemperature.shift(-4)\n",
    "data['RelativeHumidity_4+'] = data.RelativeHumidity.shift(-4)\n",
    "data['EffectiveCloudCover_4+'] = data.EffectiveCloudCover.shift(-4)\n",
    "data['WindSpeed_4+'] = data.WindSpeed.shift(-4)\n",
    "data['IsDay_4+'] = data.IsDay.shift(-4)\n",
    "\n",
    "\n",
    "forshift = ['AirTemperature_1','ComfortTemperature_1','RelativeHumidity_1','EffectiveCloudCover_1','WindSpeed_1']\n",
    "for fs in forshift:\n",
    "    data[fs].iloc[0] = data[fs].iloc[1]\n",
    "    \n",
    "    \n",
    "backshift = ['AirTemperature_1+','ComfortTemperature_1+','RelativeHumidity_1+','EffectiveCloudCover_1+','WindSpeed_1+','IsDay_1+',\n",
    "             'AirTemperature_2+','ComfortTemperature_2+','RelativeHumidity_2+','EffectiveCloudCover_2+','WindSpeed_2+','IsDay_2+',\n",
    "             'AirTemperature_3+','ComfortTemperature_3+','RelativeHumidity_3+','EffectiveCloudCover_3+','WindSpeed_3+','IsDay_3+',\n",
    "             'AirTemperature_4+','ComfortTemperature_4+','RelativeHumidity_4+','EffectiveCloudCover_4+','WindSpeed_4+','IsDay_4+',\n",
    "            \n",
    "            ]\n",
    "\n",
    "for bs in backshift[:6]:\n",
    "    data[bs].iloc[-1] = data[bs].iloc[-2]\n",
    "    \n",
    "for bs in backshift[6:12]:\n",
    "    data[bs].iloc[-1] = data[bs].iloc[-3]\n",
    "    data[bs].iloc[-2] = data[bs].iloc[-3]\n",
    "    \n",
    "for bs in backshift[12:18]:\n",
    "    data[bs].iloc[-1] = data[bs].iloc[-4]\n",
    "    data[bs].iloc[-2] = data[bs].iloc[-4]\n",
    "    data[bs].iloc[-3] = data[bs].iloc[-4]\n",
    "    \n",
    "for bs in backshift[18:]:\n",
    "    data[bs].iloc[-1] = data[bs].iloc[-5]\n",
    "    data[bs].iloc[-2] = data[bs].iloc[-5]\n",
    "    data[bs].iloc[-3] = data[bs].iloc[-5]    \n",
    "    data[bs].iloc[-4] = data[bs].iloc[-5]"
   ]
  },
  {
   "cell_type": "code",
   "execution_count": 5,
   "id": "532fc2e4",
   "metadata": {},
   "outputs": [],
   "source": [
    "days = 24\n",
    "data = data[:-31*days]\n",
    "\n",
    "def prepare_X_y(df, col, pred_ahead):        \n",
    "        \n",
    "    X = df.drop([col], axis=1)\n",
    "    y = df[col]\n",
    "    X_train = X[:-pred_ahead]\n",
    "    X_test = X[-pred_ahead:]\n",
    "    y_train = y[:-pred_ahead]\n",
    "    y_test = y[-pred_ahead:]\n",
    "    \n",
    "    return (X_train, X_test, y_train, y_test)\n",
    "\n",
    "pred_ahead = 30*days\n",
    "X_train, X_test, y_train, y_test = prepare_X_y(data, 'Generation', pred_ahead)\n"
   ]
  },
  {
   "cell_type": "code",
   "execution_count": 6,
   "id": "7a528b34",
   "metadata": {},
   "outputs": [
    {
     "name": "stdout",
     "output_type": "stream",
     "text": [
      "16.47204783271865\n"
     ]
    }
   ],
   "source": [
    "cbr = CatBoostRegressor(verbose=False)\n",
    "cbr.fit(X_train, y_train)\n",
    "pred_cbr = cbr.predict(X_test)\n",
    "\n",
    "preds = pd.DataFrame({'DateTime': X_test.index, 'IsDay': X_test.IsDay, 'cbr': pred_cbr})\n",
    "preds['hour'] = preds.DateTime.dt.hour\n",
    "\n",
    "preds.set_index('DateTime', inplace=True)\n",
    "\n",
    "preds['cbr'][preds.cbr<0] = 0\n",
    "\n",
    "preds.loc[preds['IsDay'] == 0, 'cbr'] = 0\n",
    "\n",
    "nightlike = [19, 20, 21 , 5, 6]\n",
    "night = [22 , 23 , 0, 1, 2, 3, 4] + nightlike\n",
    "# preds.loc[preds['hour'].isin(night), 'cbr'] = 0\n",
    "\n",
    "mse = mean_squared_error(preds.cbr,y_test)\n",
    "print (np.sqrt(mse))"
   ]
  },
  {
   "cell_type": "code",
   "execution_count": null,
   "id": "bf8e9410",
   "metadata": {},
   "outputs": [],
   "source": []
  }
 ],
 "metadata": {
  "kernelspec": {
   "display_name": "Python 3 (ipykernel)",
   "language": "python",
   "name": "python3"
  },
  "language_info": {
   "codemirror_mode": {
    "name": "ipython",
    "version": 3
   },
   "file_extension": ".py",
   "mimetype": "text/x-python",
   "name": "python",
   "nbconvert_exporter": "python",
   "pygments_lexer": "ipython3",
   "version": "3.9.7"
  }
 },
 "nbformat": 4,
 "nbformat_minor": 5
}
